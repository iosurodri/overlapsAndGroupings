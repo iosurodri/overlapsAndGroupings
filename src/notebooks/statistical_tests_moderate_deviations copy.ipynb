{
 "cells": [
  {
   "cell_type": "markdown",
   "metadata": {},
   "source": [
    "We load the libraries to be used in the experimentation"
   ]
  },
  {
   "cell_type": "code",
   "execution_count": 3,
   "metadata": {},
   "outputs": [],
   "source": [
    "import numpy as np\n",
    "import pandas as pd\n",
    "\n",
    "from scipy.stats import f_oneway, ttest_ind, shapiro\n",
    "import scipy.stats as ss\n",
    "import scikit_posthocs as sp"
   ]
  },
  {
   "cell_type": "markdown",
   "metadata": {},
   "source": [
    "Continue loading the data of the populations to be tested:"
   ]
  },
  {
   "cell_type": "code",
   "execution_count": 4,
   "metadata": {},
   "outputs": [],
   "source": [
    "data_arch1 = [\n",
    "    ['max', 0.7415, 0.7421, 0.7396, 0.7423, 0.742],\n",
    "    ['avg', 0.7487, 0.758, 0.7562, 0.7452, 0.7562],\n",
    "    ['m_1.5', 0.7581, 0.7584, 0.7563, 0.7616, 0.753],\n",
    "    ['m_2', 0.7508, 0.749, 0.7535, 0.7527, 0.7499],\n",
    "    ['m_2.5', 0.7576, 0.7544, 0.7558, 0.7508, 0.756],\n",
    "    ['m_3', 0.7476, 0.7515, 0.7438, 0.7555, 0.7558],\n",
    "]\n",
    "\n",
    "data_values = [values[1:] for values in data_arch1]\n",
    "df = pd.DataFrame(data=data_arch1, columns=['Model', 'Test1', 'Test2', 'Test3', 'Test4', 'Test5'])\n",
    "df = df.set_index('Model')"
   ]
  },
  {
   "cell_type": "markdown",
   "metadata": {},
   "source": [
    "We start by testing for normality in each population:"
   ]
  },
  {
   "cell_type": "code",
   "execution_count": 5,
   "metadata": {},
   "outputs": [
    {
     "name": "stdout",
     "output_type": "stream",
     "text": [
      "Shapiro test result for grouping max: ShapiroResult(statistic=0.7738790512084961, pvalue=0.04879090189933777)\n",
      "Shapiro test result for grouping avg: ShapiroResult(statistic=0.8535849452018738, pvalue=0.20611828565597534)\n",
      "We cannot discard that the previous population was sampled from a normal distribution\n",
      "Shapiro test result for grouping m_1.5: ShapiroResult(statistic=0.9761701226234436, pvalue=0.9131672382354736)\n",
      "We cannot discard that the previous population was sampled from a normal distribution\n",
      "Shapiro test result for grouping m_2: ShapiroResult(statistic=0.9449402093887329, pvalue=0.701041579246521)\n",
      "We cannot discard that the previous population was sampled from a normal distribution\n",
      "Shapiro test result for grouping m_2.5: ShapiroResult(statistic=0.9127028584480286, pvalue=0.48400217294692993)\n",
      "We cannot discard that the previous population was sampled from a normal distribution\n",
      "Shapiro test result for grouping m_3: ShapiroResult(statistic=0.9143377542495728, pvalue=0.4940912127494812)\n",
      "We cannot discard that the previous population was sampled from a normal distribution\n"
     ]
    }
   ],
   "source": [
    "for pop in data_arch1:\n",
    "    test_result = ss.shapiro(pop[1:])\n",
    "    print('Shapiro test result for grouping {}: {}'.format(pop[0], test_result))\n",
    "    if (test_result[1] > 0.05):\n",
    "        print('We cannot discard that the previous population was sampled from a normal distribution')"
   ]
  },
  {
   "cell_type": "markdown",
   "metadata": {},
   "source": [
    "All populations seem to be normal, so we apply statistical tests that allow for normality. We now will perform ANOVA testing in all populations to check if there are statistical differences among them:\n",
    "\n",
    "<font color='red'>Warning</font>: Populations are very small (n = 5, n < 20), so populations may not really be normal. Further experimenting could be necessary."
   ]
  },
  {
   "cell_type": "code",
   "execution_count": 6,
   "metadata": {},
   "outputs": [
    {
     "name": "stdout",
     "output_type": "stream",
     "text": [
      "F_onewayResult(statistic=11.356686288875999, pvalue=1.0604516165604626e-05)\n"
     ]
    }
   ],
   "source": [
    "test_result = ss.f_oneway(*data_values, axis=0)\n",
    "print(test_result)"
   ]
  },
  {
   "cell_type": "markdown",
   "metadata": {},
   "source": [
    "The p-value obtained is well beyond the imposed threshold of 0.05, so we can safely discard the null hypothesis that all populations are equal (and thus, there must be some model whose accuracies are statistically better or worse than those of the rest). \n",
    "\n",
    "We now need to find out which models are statistically different via post-hoc tests between each pair of tests."
   ]
  },
  {
   "cell_type": "code",
   "execution_count": 7,
   "metadata": {},
   "outputs": [
    {
     "name": "stderr",
     "output_type": "stream",
     "text": [
      "/home/iosu.rodriguez/anaconda3/envs/pytorch/lib/python3.9/site-packages/scikit_posthocs/_posthocs.py:1214: UserWarning: p-value capped: true value larger than 0.25\n",
      "  vs[i, j] = ss.anderson_ksamp([x.loc[x[_group_col] == groups[i], _val_col], x.loc[x[_group_col] == groups[j], _val_col]], midrank=midrank)[2]\n"
     ]
    },
    {
     "data": {
      "text/html": [
       "<div>\n",
       "<style scoped>\n",
       "    .dataframe tbody tr th:only-of-type {\n",
       "        vertical-align: middle;\n",
       "    }\n",
       "\n",
       "    .dataframe tbody tr th {\n",
       "        vertical-align: top;\n",
       "    }\n",
       "\n",
       "    .dataframe thead th {\n",
       "        text-align: right;\n",
       "    }\n",
       "</style>\n",
       "<table border=\"1\" class=\"dataframe\">\n",
       "  <thead>\n",
       "    <tr style=\"text-align: right;\">\n",
       "      <th></th>\n",
       "      <th>1</th>\n",
       "      <th>2</th>\n",
       "      <th>3</th>\n",
       "      <th>4</th>\n",
       "      <th>5</th>\n",
       "      <th>6</th>\n",
       "    </tr>\n",
       "  </thead>\n",
       "  <tbody>\n",
       "    <tr>\n",
       "      <th>1</th>\n",
       "      <td>1.000000</td>\n",
       "      <td>0.003769</td>\n",
       "      <td>0.004356</td>\n",
       "      <td>0.004356</td>\n",
       "      <td>0.004356</td>\n",
       "      <td>0.004356</td>\n",
       "    </tr>\n",
       "    <tr>\n",
       "      <th>2</th>\n",
       "      <td>0.003769</td>\n",
       "      <td>1.000000</td>\n",
       "      <td>0.076000</td>\n",
       "      <td>0.140970</td>\n",
       "      <td>0.250000</td>\n",
       "      <td>0.219282</td>\n",
       "    </tr>\n",
       "    <tr>\n",
       "      <th>3</th>\n",
       "      <td>0.004356</td>\n",
       "      <td>0.076000</td>\n",
       "      <td>1.000000</td>\n",
       "      <td>0.010368</td>\n",
       "      <td>0.121731</td>\n",
       "      <td>0.021065</td>\n",
       "    </tr>\n",
       "    <tr>\n",
       "      <th>4</th>\n",
       "      <td>0.004356</td>\n",
       "      <td>0.140970</td>\n",
       "      <td>0.010368</td>\n",
       "      <td>1.000000</td>\n",
       "      <td>0.026977</td>\n",
       "      <td>0.250000</td>\n",
       "    </tr>\n",
       "    <tr>\n",
       "      <th>5</th>\n",
       "      <td>0.004356</td>\n",
       "      <td>0.250000</td>\n",
       "      <td>0.121731</td>\n",
       "      <td>0.026977</td>\n",
       "      <td>1.000000</td>\n",
       "      <td>0.168181</td>\n",
       "    </tr>\n",
       "    <tr>\n",
       "      <th>6</th>\n",
       "      <td>0.004356</td>\n",
       "      <td>0.219282</td>\n",
       "      <td>0.021065</td>\n",
       "      <td>0.250000</td>\n",
       "      <td>0.168181</td>\n",
       "      <td>1.000000</td>\n",
       "    </tr>\n",
       "  </tbody>\n",
       "</table>\n",
       "</div>"
      ],
      "text/plain": [
       "          1         2         3         4         5         6\n",
       "1  1.000000  0.003769  0.004356  0.004356  0.004356  0.004356\n",
       "2  0.003769  1.000000  0.076000  0.140970  0.250000  0.219282\n",
       "3  0.004356  0.076000  1.000000  0.010368  0.121731  0.021065\n",
       "4  0.004356  0.140970  0.010368  1.000000  0.026977  0.250000\n",
       "5  0.004356  0.250000  0.121731  0.026977  1.000000  0.168181\n",
       "6  0.004356  0.219282  0.021065  0.250000  0.168181  1.000000"
      ]
     },
     "execution_count": 7,
     "metadata": {},
     "output_type": "execute_result"
    }
   ],
   "source": [
    "data_values_np = np.array(data_values)\n",
    "sp.posthoc_anderson(data_values_np)"
   ]
  },
  {
   "cell_type": "code",
   "execution_count": 8,
   "metadata": {},
   "outputs": [
    {
     "data": {
      "text/plain": [
       "(<AxesSubplot:>, <matplotlib.colorbar.ColorbarBase at 0x7f9f33aa0430>)"
      ]
     },
     "execution_count": 8,
     "metadata": {},
     "output_type": "execute_result"
    },
    {
     "data": {
      "image/png": "[encoded data removed]",
      "text/plain": [
       "<Figure size 432x288 with 2 Axes>"
      ]
     },
     "metadata": {
      "needs_background": "light"
     },
     "output_type": "display_data"
    }
   ],
   "source": [
    "pc = sp.posthoc_conover(data_values_np)\n",
    "cmap = ['#FFFFFF', \"#F03828\", '#005A2E', '#1D8C43', '#A2DA9C']\n",
    "heatmap_args = {'cmap': cmap, 'linewidths': 0.25, 'linecolor': '0.5', 'clip_on': False, 'square': True, 'cbar_ax_bbox': [0.80, 0.35, 0.04, 0.3]}\n",
    "# heatmap_args = {'linewidths': 0.25, 'linecolor': '0.5', 'clip_on': False, 'square': True, 'cbar_ax_bbox': [0.80, 0.35, 0.04, 0.3]}\n",
    "sp.sign_plot(pc, **heatmap_args)"
   ]
  },
  {
   "cell_type": "code",
   "execution_count": null,
   "metadata": {},
   "outputs": [],
   "source": []
  }
 ],
 "metadata": {
  "interpreter": {
   "hash": "50b926a050cc029ac752863e4f86b7e2171f26cfdc0be8c315e356fc3ef03bad"
  },
  "kernelspec": {
   "display_name": "Python 3.8.10 64-bit ('pytorch': conda)",
   "name": "python3"
  },
  "language_info": {
   "codemirror_mode": {
    "name": "ipython",
    "version": 3
   },
   "file_extension": ".py",
   "mimetype": "text/x-python",
   "name": "python",
   "nbconvert_exporter": "python",
   "pygments_lexer": "ipython3",
   "version": "3.9.10"
  },
  "orig_nbformat": 4
 },
 "nbformat": 4,
 "nbformat_minor": 2
}

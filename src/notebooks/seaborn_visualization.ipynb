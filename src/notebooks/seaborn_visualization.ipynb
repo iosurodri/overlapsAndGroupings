{
 "cells": [
  {
   "cell_type": "code",
   "execution_count": 1,
   "metadata": {},
   "outputs": [],
   "source": [
    "import numpy as np\n",
    "import pandas as pd\n",
    "import seaborn as sns\n",
    "import matplotlib.pyplot as plt"
   ]
  },
  {
   "cell_type": "markdown",
   "metadata": {},
   "source": [
    "Cargamos los datos a utilizar para las visualizaciones"
   ]
  },
  {
   "cell_type": "code",
   "execution_count": 4,
   "metadata": {},
   "outputs": [
    {
     "name": "stdout",
     "output_type": "stream",
     "text": [
      "          Test1   Test2   Test3   Test4   Test5\n",
      "Model                                          \n",
      "max      0.8658  0.8682  0.8606  0.8632  0.8578\n",
      "avg      0.8584  0.8661  0.8602  0.8633  0.8643\n",
      "g_prod   0.8750  0.8714  0.8735  0.8738  0.8711\n",
      "g_max    0.8639  0.8669  0.8651  0.8639  0.8588\n",
      "g_min    0.8658  0.8620  0.8618  0.8665  0.8657\n",
      "g_ob     0.8735  0.8798  0.8739  0.8736  0.8697\n",
      "g_geom   0.7911  0.7887  0.7918  0.7834  0.7818\n",
      "g_u      0.8049  0.8049  0.8093  0.8079  0.8213\n",
      "gp_max   0.8701  0.8722  0.8680  0.8674  0.8681\n",
      "gp_prod  0.8442  0.8250  0.8388  0.8404  0.8297\n",
      "gp_geom  0.8340  0.8332  0.8328  0.8391  0.8392\n",
      "Model     max     avg  g_prod   g_max   g_min    g_ob  g_geom     g_u  gp_max  \\\n",
      "Test1  0.8658  0.8584  0.8750  0.8639  0.8658  0.8735  0.7911  0.8049  0.8701   \n",
      "Test2  0.8682  0.8661  0.8714  0.8669  0.8620  0.8798  0.7887  0.8049  0.8722   \n",
      "Test3  0.8606  0.8602  0.8735  0.8651  0.8618  0.8739  0.7918  0.8093  0.8680   \n",
      "Test4  0.8632  0.8633  0.8738  0.8639  0.8665  0.8736  0.7834  0.8079  0.8674   \n",
      "Test5  0.8578  0.8643  0.8711  0.8588  0.8657  0.8697  0.7818  0.8213  0.8681   \n",
      "\n",
      "Model  gp_prod  gp_geom  \n",
      "Test1   0.8442   0.8340  \n",
      "Test2   0.8250   0.8332  \n",
      "Test3   0.8388   0.8328  \n",
      "Test4   0.8404   0.8391  \n",
      "Test5   0.8297   0.8392  \n"
     ]
    }
   ],
   "source": [
    "# data_arch1 = [\n",
    "#     ['max', 0.7415, 0.7421, 0.7396, 0.7423, 0.742],\n",
    "#     ['avg', 0.7487, 0.758, 0.7562, 0.7452, 0.7562],\n",
    "#     ['g_prod', 0.7554, 0.7577, 0.747, 0.7535, 0.7515],\n",
    "#     ['g_max', 0.7428, 0.7445, 0.7434, 0.7397, 0.741],\n",
    "#     ['g_min', 0.7444, 0.7431, 0.7405, 0.7406, 0.7429],\n",
    "#     ['g_ob', 0.7559, 0.7583, 0.7497, 0.7582, 0.7552],\n",
    "#     ['g_geom', 0.7486, 0.7563, 0.758, 0.7544, 0.7535],\n",
    "#     ['g_u', 0.7407, 0.7451, 0.7416, 0.7491, 0.7439],\n",
    "#     ['gp_max', 0.736, 0.7357, 0.7414, 0.7303, 0.7387],\n",
    "#     ['gp_prod', 0.7557, 0.7548, 0.7588, 0.7573, 0.7506],\n",
    "#     ['gp_geom', 0.7534, 0.7466, 0.1, 0.6547, 0.7502],\n",
    "# ]\n",
    "\n",
    "data_arch2 = [\n",
    "    ['max', 0.8658, 0.8682, 0.8606, 0.8632, 0.8578],\n",
    "    ['avg', 0.8584, 0.8661, 0.8602, 0.8633, 0.8643],\n",
    "    ['g_prod', 0.8750, 0.8714, 0.8735, 0.8738, 0.8711],\n",
    "    ['g_max', 0.8639, 0.8669, 0.8651, 0.8639, 0.8588],\n",
    "    ['g_min', 0.8658, 0.8620, 0.8618, 0.8665, 0.8657],\n",
    "    ['g_ob', 0.8735, 0.8798, 0.8739, 0.8736, 0.8697],\n",
    "    ['g_geom', 0.7911, 0.7887, 0.7918, 0.7834, 0.7818],\n",
    "    ['g_u', 0.8049, 0.8049, 0.8093, 0.8079, 0.8213],\n",
    "    ['gp_max', 0.8701, 0.8722, 0.8680, 0.8674, 0.8681],\n",
    "    ['gp_prod', 0.8442, 0.8250, 0.8388, 0.8404, 0.8297],\n",
    "    ['gp_geom', 0.8340, 0.8332, 0.8328, 0.8391, 0.8392],\n",
    "]\n",
    "\n",
    "df = pd.DataFrame(data=data_arch2, columns=['Model', 'Test1', 'Test2', 'Test3', 'Test4', 'Test5'])\n",
    "df = df.set_index('Model')\n",
    "\n",
    "print(df)\n",
    "print(df.T)\n",
    "prueba = df.T"
   ]
  },
  {
   "cell_type": "code",
   "execution_count": 3,
   "metadata": {},
   "outputs": [
    {
     "data": {
      "image/png": "[encoded data removed]",
      "text/plain": [
       "<Figure size 432x288 with 1 Axes>"
      ]
     },
     "metadata": {
      "needs_background": "light"
     },
     "output_type": "display_data"
    }
   ],
   "source": [
    "fig = plt.figure()\n",
    "ax = sns.boxplot(data=df.head(8).T, palette='colorblind')"
   ]
  },
  {
   "cell_type": "markdown",
   "metadata": {},
   "source": [
    "Guardamos los plots generados en la carpeta reports/plots"
   ]
  },
  {
   "cell_type": "code",
   "execution_count": 4,
   "metadata": {},
   "outputs": [],
   "source": [
    "import os\n",
    "PATH_REPORTS = os.path.join('..', '..', 'reports')\n",
    "\n",
    "PATH_plots = os.path.join(PATH_REPORTS, 'plots')\n",
    "try:\n",
    "    os.mkdir(PATH_plots)\n",
    "except FileExistsError as e:\n",
    "    pass\n",
    "\n",
    "fig.savefig(os.path.join(PATH_plots, 'groupings_arch1_boxplot.pdf'))"
   ]
  },
  {
   "cell_type": "markdown",
   "metadata": {},
   "source": [
    "# Comparación entre gráficas de entrenamiento"
   ]
  },
  {
   "cell_type": "markdown",
   "metadata": {},
   "source": [
    "Nota: Vamos a cargar los datos a partir del formato exportado por TensorBoard"
   ]
  },
  {
   "cell_type": "code",
   "execution_count": 5,
   "metadata": {},
   "outputs": [],
   "source": [
    "import os\n",
    "PATH_REPORTS = os.path.join('..', '..', 'reports')\n",
    "PATH_plots = os.path.join(PATH_REPORTS, 'plots')\n",
    "PATH_log_data = os.path.join(PATH_REPORTS, 'log_data')"
   ]
  },
  {
   "cell_type": "markdown",
   "metadata": {},
   "source": [
    "Cargamos los datos exportados por tensorboard en formato csv"
   ]
  },
  {
   "cell_type": "code",
   "execution_count": 6,
   "metadata": {},
   "outputs": [
    {
     "ename": "FileNotFoundError",
     "evalue": "[Errno 2] No such file or directory: '../../reports/log_data/best_methods'",
     "output_type": "error",
     "traceback": [
      "\u001b[0;31m---------------------------------------------------------------------------\u001b[0m",
      "\u001b[0;31mFileNotFoundError\u001b[0m                         Traceback (most recent call last)",
      "\u001b[0;32m<ipython-input-6-f5db97ab8729>\u001b[0m in \u001b[0;36m<module>\u001b[0;34m\u001b[0m\n\u001b[1;32m      2\u001b[0m \u001b[0mdata_names\u001b[0m \u001b[0;34m=\u001b[0m \u001b[0;34m[\u001b[0m\u001b[0;34m]\u001b[0m\u001b[0;34m\u001b[0m\u001b[0;34m\u001b[0m\u001b[0m\n\u001b[1;32m      3\u001b[0m \u001b[0mdata\u001b[0m \u001b[0;34m=\u001b[0m \u001b[0;34m[\u001b[0m\u001b[0;34m]\u001b[0m\u001b[0;34m\u001b[0m\u001b[0;34m\u001b[0m\u001b[0m\n\u001b[0;32m----> 4\u001b[0;31m \u001b[0;32mfor\u001b[0m \u001b[0mlog_file\u001b[0m \u001b[0;32min\u001b[0m \u001b[0mos\u001b[0m\u001b[0;34m.\u001b[0m\u001b[0mlistdir\u001b[0m\u001b[0;34m(\u001b[0m\u001b[0mtest_log_folder\u001b[0m\u001b[0;34m)\u001b[0m\u001b[0;34m:\u001b[0m\u001b[0;34m\u001b[0m\u001b[0;34m\u001b[0m\u001b[0m\n\u001b[0m\u001b[1;32m      5\u001b[0m     \u001b[0mdata_names\u001b[0m\u001b[0;34m.\u001b[0m\u001b[0mappend\u001b[0m\u001b[0;34m(\u001b[0m\u001b[0mlog_file\u001b[0m\u001b[0;34m)\u001b[0m\u001b[0;34m\u001b[0m\u001b[0;34m\u001b[0m\u001b[0m\n\u001b[1;32m      6\u001b[0m     \u001b[0mdata\u001b[0m\u001b[0;34m.\u001b[0m\u001b[0mappend\u001b[0m\u001b[0;34m(\u001b[0m\u001b[0mpd\u001b[0m\u001b[0;34m.\u001b[0m\u001b[0mread_csv\u001b[0m\u001b[0;34m(\u001b[0m\u001b[0mos\u001b[0m\u001b[0;34m.\u001b[0m\u001b[0mpath\u001b[0m\u001b[0;34m.\u001b[0m\u001b[0mjoin\u001b[0m\u001b[0;34m(\u001b[0m\u001b[0mtest_log_folder\u001b[0m\u001b[0;34m,\u001b[0m \u001b[0mlog_file\u001b[0m\u001b[0;34m)\u001b[0m\u001b[0;34m)\u001b[0m\u001b[0;34m)\u001b[0m\u001b[0;34m\u001b[0m\u001b[0;34m\u001b[0m\u001b[0m\n",
      "\u001b[0;31mFileNotFoundError\u001b[0m: [Errno 2] No such file or directory: '../../reports/log_data/best_methods'"
     ]
    }
   ],
   "source": [
    "test_log_folder = os.path.join(PATH_log_data, 'best_methods')\n",
    "data_names = []\n",
    "data = []\n",
    "for log_file in os.listdir(test_log_folder):\n",
    "    data_names.append(log_file)\n",
    "    data.append(pd.read_csv(os.path.join(test_log_folder, log_file)))"
   ]
  },
  {
   "cell_type": "code",
   "execution_count": 9,
   "metadata": {},
   "outputs": [
    {
     "name": "stdout",
     "output_type": "stream",
     "text": [
      "[]\n"
     ]
    },
    {
     "ename": "IndexError",
     "evalue": "list index out of range",
     "output_type": "error",
     "traceback": [
      "\u001b[0;31m---------------------------------------------------------------------------\u001b[0m",
      "\u001b[0;31mIndexError\u001b[0m                                Traceback (most recent call last)",
      "\u001b[0;32m<ipython-input-9-474a14d697ef>\u001b[0m in \u001b[0;36m<module>\u001b[0;34m\u001b[0m\n\u001b[1;32m      1\u001b[0m \u001b[0mprint\u001b[0m\u001b[0;34m(\u001b[0m\u001b[0mdata_names\u001b[0m\u001b[0;34m)\u001b[0m\u001b[0;34m\u001b[0m\u001b[0;34m\u001b[0m\u001b[0m\n\u001b[0;32m----> 2\u001b[0;31m \u001b[0mprint\u001b[0m\u001b[0;34m(\u001b[0m\u001b[0mdata\u001b[0m\u001b[0;34m[\u001b[0m\u001b[0;36m0\u001b[0m\u001b[0;34m]\u001b[0m\u001b[0;34m[\u001b[0m\u001b[0;34m'Value'\u001b[0m\u001b[0;34m]\u001b[0m\u001b[0;34m.\u001b[0m\u001b[0mvalues\u001b[0m\u001b[0;34m)\u001b[0m\u001b[0;34m\u001b[0m\u001b[0;34m\u001b[0m\u001b[0m\n\u001b[0m\u001b[1;32m      3\u001b[0m \u001b[0;34m\u001b[0m\u001b[0m\n\u001b[1;32m      4\u001b[0m \u001b[0mdata_names\u001b[0m \u001b[0;34m=\u001b[0m \u001b[0;34m[\u001b[0m\u001b[0;34m'max'\u001b[0m\u001b[0;34m,\u001b[0m \u001b[0;34m'g_ob'\u001b[0m\u001b[0;34m,\u001b[0m \u001b[0;34m'g_prod'\u001b[0m\u001b[0;34m]\u001b[0m\u001b[0;34m\u001b[0m\u001b[0;34m\u001b[0m\u001b[0m\n",
      "\u001b[0;31mIndexError\u001b[0m: list index out of range"
     ]
    }
   ],
   "source": [
    "print(data_names)\n",
    "print(data[0]['Value'].values)\n",
    "\n",
    "data_names = ['max', 'g_ob', 'g_prod']\n"
   ]
  },
  {
   "cell_type": "code",
   "execution_count": 10,
   "metadata": {},
   "outputs": [
    {
     "data": {
      "image/png": "[encoded data removed]",
      "text/plain": [
       "<Figure size 432x288 with 1 Axes>"
      ]
     },
     "metadata": {
      "needs_background": "light"
     },
     "output_type": "display_data"
    }
   ],
   "source": [
    "fig = plt.figure()\n",
    "for data_model in data:\n",
    "    sns.lineplot(data=data_model['Value'])\n",
    "plt.legend(labels=data_names)\n",
    "plt.savefig(os.path.join(PATH_plots, 'training.pdf'))"
   ]
  },
  {
   "cell_type": "code",
   "execution_count": 11,
   "metadata": {},
   "outputs": [
    {
     "data": {
      "image/png": "[encoded data removed]",
      "text/plain": [
       "<Figure size 432x288 with 1 Axes>"
      ]
     },
     "metadata": {
      "needs_background": "light"
     },
     "output_type": "display_data"
    }
   ],
   "source": [
    "fig = plt.figure()\n",
    "for data_model in data:\n",
    "    sns.lineplot(data=data_model['Value'][:30])\n",
    "plt.legend(labels=data_names)\n",
    "plt.savefig(os.path.join(PATH_plots, 'training30epochs.pdf'))"
   ]
  },
  {
   "cell_type": "code",
   "execution_count": 12,
   "metadata": {},
   "outputs": [
    {
     "name": "stdout",
     "output_type": "stream",
     "text": [
      "[]\n"
     ]
    }
   ],
   "source": [
    "soft_data = []\n",
    "for data_model in data:\n",
    "    copy_data = data_model\n",
    "    copy_data['Value'] = copy_data['Value'].ewm(alpha=0.6).mean()\n",
    "    soft_data.append(copy_data)\n",
    "print(soft_data)"
   ]
  },
  {
   "cell_type": "code",
   "execution_count": 85,
   "metadata": {},
   "outputs": [
    {
     "data": {
      "image/png": "[encoded data removed]",
      "text/plain": [
       "<Figure size 432x288 with 1 Axes>"
      ]
     },
     "metadata": {
      "needs_background": "light"
     },
     "output_type": "display_data"
    }
   ],
   "source": [
    "fig = plt.figure()\n",
    "for data_model in soft_data:\n",
    "    sns.lineplot(data=data_model['Value'][:30])\n",
    "plt.legend(labels=data_names)\n",
    "plt.savefig(os.path.join(PATH_plots, 'training30epochs_soft.pdf'))"
   ]
  },
  {
   "cell_type": "code",
   "execution_count": null,
   "metadata": {},
   "outputs": [],
   "source": []
  }
 ],
 "metadata": {
  "interpreter": {
   "hash": "50b926a050cc029ac752863e4f86b7e2171f26cfdc0be8c315e356fc3ef03bad"
  },
  "kernelspec": {
   "display_name": "Python 3.8.10 64-bit ('pytorch': conda)",
   "name": "python3"
  },
  "language_info": {
   "codemirror_mode": {
    "name": "ipython",
    "version": 3
   },
   "file_extension": ".py",
   "mimetype": "text/x-python",
   "name": "python",
   "nbconvert_exporter": "python",
   "pygments_lexer": "ipython3",
   "version": "3.9.10"
  },
  "orig_nbformat": 4
 },
 "nbformat": 4,
 "nbformat_minor": 2
}
